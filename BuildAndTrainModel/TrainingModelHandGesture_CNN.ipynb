{
  "nbformat": 4,
  "nbformat_minor": 0,
  "metadata": {
    "colab": {
      "provenance": [],
      "collapsed_sections": [
        "0_X-O-tsbg7a",
        "ZfUTNvgAbs9c"
      ],
      "authorship_tag": "ABX9TyN0IqKOKqVM25i+2NqLWoV0",
      "include_colab_link": true
    },
    "kernelspec": {
      "name": "python3",
      "display_name": "Python 3"
    },
    "language_info": {
      "name": "python"
    }
  },
  "cells": [
    {
      "cell_type": "markdown",
      "metadata": {
        "id": "view-in-github",
        "colab_type": "text"
      },
      "source": [
        "<a href=\"https://colab.research.google.com/github/AldiMusneldi/MachineLearning/blob/main/BuildAndTrainModel/TrainingModelHandGesture_CNN.ipynb\" target=\"_parent\"><img src=\"https://colab.research.google.com/assets/colab-badge.svg\" alt=\"Open In Colab\"/></a>"
      ]
    },
    {
      "cell_type": "markdown",
      "source": [
        "#Data Preprocessing"
      ],
      "metadata": {
        "id": "0_X-O-tsbg7a"
      }
    },
    {
      "cell_type": "code",
      "execution_count": null,
      "metadata": {
        "id": "WHS04kIba7cX"
      },
      "outputs": [],
      "source": []
    },
    {
      "cell_type": "code",
      "source": [],
      "metadata": {
        "id": "It9CpbgTbrhx"
      },
      "execution_count": null,
      "outputs": []
    },
    {
      "cell_type": "markdown",
      "source": [
        "#Data Exploration"
      ],
      "metadata": {
        "id": "ZfUTNvgAbs9c"
      }
    },
    {
      "cell_type": "code",
      "source": [],
      "metadata": {
        "id": "wDdnFqwEbyqY"
      },
      "execution_count": null,
      "outputs": []
    },
    {
      "cell_type": "markdown",
      "source": [
        "#Split Model"
      ],
      "metadata": {
        "id": "VzlXfTGhcHdF"
      }
    },
    {
      "cell_type": "code",
      "source": [],
      "metadata": {
        "id": "LH54M4FCcJLv"
      },
      "execution_count": null,
      "outputs": []
    }
  ]
}